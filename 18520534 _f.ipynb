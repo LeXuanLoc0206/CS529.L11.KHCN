{
  "nbformat": 4,
  "nbformat_minor": 0,
  "metadata": {
    "colab": {
      "name": "18520534.ipynb",
      "provenance": [],
      "collapsed_sections": []
    },
    "kernelspec": {
      "name": "python3",
      "display_name": "Python 3"
    }
  },
  "cells": [
    {
      "cell_type": "code",
      "metadata": {
        "id": "JHxG341esXA2",
        "colab_type": "code",
        "colab": {
          "base_uri": "https://localhost:8080/",
          "height": 128
        },
        "outputId": "90d801d0-bf4c-4279-a67e-be955b21d1c9"
      },
      "source": [
        "from google.colab import drive\n",
        "drive.mount('/content/drive')"
      ],
      "execution_count": 1,
      "outputs": [
        {
          "output_type": "stream",
          "text": [
            "Go to this URL in a browser: https://accounts.google.com/o/oauth2/auth?client_id=947318989803-6bn6qk8qdgf4n4g3pfee6491hc0brc4i.apps.googleusercontent.com&redirect_uri=urn%3aietf%3awg%3aoauth%3a2.0%3aoob&response_type=code&scope=email%20https%3a%2f%2fwww.googleapis.com%2fauth%2fdocs.test%20https%3a%2f%2fwww.googleapis.com%2fauth%2fdrive%20https%3a%2f%2fwww.googleapis.com%2fauth%2fdrive.photos.readonly%20https%3a%2f%2fwww.googleapis.com%2fauth%2fpeopleapi.readonly\n",
            "\n",
            "Enter your authorization code:\n",
            "··········\n",
            "Mounted at /content/drive\n"
          ],
          "name": "stdout"
        }
      ]
    },
    {
      "cell_type": "code",
      "metadata": {
        "id": "e2rem17lu9V2",
        "colab_type": "code",
        "colab": {}
      },
      "source": [
        "import os\n",
        "import numpy as np\n",
        "import matplotlib.pyplot as plt\n",
        "from sklearn.svm import SVC\n",
        "from sklearn.metrics import accuracy_score\n",
        "from sklearn.svm import LinearSVC"
      ],
      "execution_count": 2,
      "outputs": []
    },
    {
      "cell_type": "code",
      "metadata": {
        "id": "qwm3gYkPD7Wh",
        "colab_type": "code",
        "colab": {}
      },
      "source": [
        "path_dir = '/content/drive/My Drive/CS114/CS114/dataset/Food-11/features/VGG16_fc2/'\n",
        "os.chdir(path_dir)\n",
        "evaluation = path_dir +'evaluation/'\n",
        "training = path_dir + 'training/'\n",
        "validation = path_dir + 'validation/'"
      ],
      "execution_count": 3,
      "outputs": []
    },
    {
      "cell_type": "code",
      "metadata": {
        "id": "Srb4ksJqGf7e",
        "colab_type": "code",
        "colab": {}
      },
      "source": [
        "X_train = []\n",
        "Y_train = []\n",
        "X_test=[]\n",
        "Y_test=[]"
      ],
      "execution_count": 4,
      "outputs": []
    },
    {
      "cell_type": "code",
      "metadata": {
        "id": "iXTt5l6yHGG4",
        "colab_type": "code",
        "colab": {}
      },
      "source": [
        "Training_lables = os.listdir(training)\n",
        "evaluation_lables = os.listdir(evaluation)\n",
        "for i in Training_lables:\n",
        "  training_dir = training + i + '/'\n",
        "  for file in os.listdir(training_dir):\n",
        "    f = training_dir + file \n",
        "    X_train.append(np.load(f))\n",
        "    Y_train.append(i)\n",
        "for i in evaluation_lables:\n",
        "  Evaluation_dir = evaluation + i + '/'\n",
        "  for file in os.listdir(Evaluation_dir):\n",
        "    f = Evaluation_dir + file \n",
        "    X_test.append(np.load(f))\n",
        "    Y_test.append(i)"
      ],
      "execution_count": null,
      "outputs": []
    },
    {
      "cell_type": "markdown",
      "metadata": {
        "id": "v991wopoKCOv",
        "colab_type": "text"
      },
      "source": [
        "**OVR**"
      ]
    },
    {
      "cell_type": "code",
      "metadata": {
        "id": "j1x5qK8MJw9y",
        "colab_type": "code",
        "colab": {}
      },
      "source": [
        "model_ovr = SVC(decision_function_shape = \"ovr\")\n",
        "model_ovr.fit(X_train, Y_train)\n",
        "Y_pred_OVR = model_ovr.predict(X_test)"
      ],
      "execution_count": null,
      "outputs": []
    },
    {
      "cell_type": "markdown",
      "metadata": {
        "id": "q5KJkGSEJ6JK",
        "colab_type": "text"
      },
      "source": [
        "**Linear SVC**"
      ]
    },
    {
      "cell_type": "code",
      "metadata": {
        "id": "RFttqIB5KCGP",
        "colab_type": "code",
        "colab": {}
      },
      "source": [
        "model_linear = LinearSVC(dual = False)\n",
        "model_linear.fit(X_train, Y_train)\n",
        "Y_pred_Linear = model_linear.predict(X_test)"
      ],
      "execution_count": null,
      "outputs": []
    },
    {
      "cell_type": "markdown",
      "metadata": {
        "id": "YW08VezPJ3Bq",
        "colab_type": "text"
      },
      "source": [
        "**OVO**"
      ]
    },
    {
      "cell_type": "code",
      "metadata": {
        "id": "ixocHwtrKFjH",
        "colab_type": "code",
        "colab": {}
      },
      "source": [
        "model = SVC(decision_function_shape = 'ovo')\n",
        "model.fit(X_train, Y_train)\n",
        "Y_pred_OVO = model.predict(X_test)"
      ],
      "execution_count": null,
      "outputs": []
    },
    {
      "cell_type": "markdown",
      "metadata": {
        "id": "w8Zer3W9JzPB",
        "colab_type": "text"
      },
      "source": [
        "**KNN**"
      ]
    },
    {
      "cell_type": "code",
      "metadata": {
        "id": "5Jm-TpUjILB0",
        "colab_type": "code",
        "colab": {
          "base_uri": "https://localhost:8080/",
          "height": 199
        },
        "outputId": "f8aa0f77-986f-428a-cdbd-1316fd4ff8a6"
      },
      "source": [
        "from sklearn.neighbors import KNeighborsClassifier as KNN\n",
        "for i in range(1, 11):\n",
        "  model_knn = KNN(n_neighbors = i)\n",
        "  model_knn.fit(X_train, Y_train)\n",
        "  Y_pred = model_knn.predict(X_test)\n",
        "  acc_knn = accuracy_score(Y_pred, Y_test)\n",
        "  print('k =', i, \":\\t\", acc_knn)"
      ],
      "execution_count": null,
      "outputs": [
        {
          "output_type": "stream",
          "text": [
            "k = 1 :\t 0.7341847341847342\n",
            "k = 2 :\t 0.7193347193347194\n",
            "k = 3 :\t 0.7555687555687556\n",
            "k = 4 :\t 0.7588357588357588\n",
            "k = 5 :\t 0.7686367686367687\n",
            "k = 6 :\t 0.7745767745767745\n",
            "k = 7 :\t 0.7733887733887734\n",
            "k = 8 :\t 0.7787347787347787\n",
            "k = 9 :\t 0.7828927828927829\n",
            "k = 10 :\t 0.7846747846747847\n"
          ],
          "name": "stdout"
        }
      ]
    },
    {
      "cell_type": "code",
      "metadata": {
        "id": "oYrmZ2-qHRDq",
        "colab_type": "code",
        "colab": {}
      },
      "source": [
        "model_knn = KNN(n_neighbors = 10)\n",
        "model_knn.fit(X_train, Y_train)\n",
        "Y_pred = model_knn.predict(X_test)\n",
        "acc_knn = accuracy_score(Y_pred, Y_test)"
      ],
      "execution_count": null,
      "outputs": []
    },
    {
      "cell_type": "markdown",
      "metadata": {
        "id": "MXCkPkasJtiB",
        "colab_type": "text"
      },
      "source": [
        "**Naive Bayes**\n"
      ]
    },
    {
      "cell_type": "code",
      "metadata": {
        "id": "WXf3tx5cJq-l",
        "colab_type": "code",
        "colab": {
          "base_uri": "https://localhost:8080/",
          "height": 54
        },
        "outputId": "b8b46538-4225-4946-a436-52f00aa582e5"
      },
      "source": [
        "from sklearn.naive_bayes import BernoulliNB\n",
        "model_bayes = bnb = BernoulliNB()\n",
        "model_bayes.fit(X_train, Y_train)\n",
        "Y_pred = model_bayes.predict(X_test)\n",
        "acc_bayes = accuracy_score(Y_pred, Y_test)\n",
        "size_bayes = model_bayes.feature_count_.shape\n",
        "print(acc_bayes)\n",
        "print(size_bayes)"
      ],
      "execution_count": null,
      "outputs": [
        {
          "output_type": "stream",
          "text": [
            "0.7377487377487377\n",
            "(11, 4096)\n"
          ],
          "name": "stdout"
        }
      ]
    },
    {
      "cell_type": "code",
      "metadata": {
        "id": "meKtbaI8Kcs4",
        "colab_type": "code",
        "colab": {
          "base_uri": "https://localhost:8080/",
          "height": 108
        },
        "outputId": "8bf58541-85a8-4697-cbbb-a0d84e0b3d57"
      },
      "source": [
        "print(' -------------------------------------------------------------------------------------------------------------------------------')\n",
        "print('|\\t OVR\\t\\t|','\\tOVR linear\\t|','\\tOVO \\t\\t|','\\tKNN \\t\\t|','\\tNaive Bayes \\t\\t|\\n|', \n",
        "accuracy_score(Y_pred_OVR, Y_test)*100,'\\t|'\n",
        ",accuracy_score(Y_pred_Linear, Y_test)*100,\n",
        "'\\t|',accuracy_score(Y_pred_OVO, Y_test)*100,'\\t|',acc_knn*100,'\\t|',acc_bayes*100,'\\t\\t|')\n",
        "print('|',model_ovr.support_vectors_.shape,'\\t\\t|',model_linear.coef_.shape,'\\t\\t|',model.support_vectors_.shape,'\\t\\t|','\\t\\t\\t|',size_bayes,'\\t\\t\\t|')\n",
        "print(' -------------------------------------------------------------------------------------------------------------------------------')"
      ],
      "execution_count": null,
      "outputs": [
        {
          "output_type": "stream",
          "text": [
            " -------------------------------------------------------------------------------------------------------------------------------\n",
            "|\t OVR\t\t| \tOVR linear\t| \tOVO \t\t| \tKNN \t\t| \tNaive Bayes \t\t|\n",
            "| 85.65488565488566 \t| 82.32848232848234 \t| 85.65488565488566 \t| 78.46747846747847 \t| 73.77487377487377 \t\t|\n",
            "| (6262, 4096) \t\t| (11, 4096) \t\t| (6262, 4096) \t\t| \t\t\t| (11, 4096) \t\t\t|\n",
            " -------------------------------------------------------------------------------------------------------------------------------\n"
          ],
          "name": "stdout"
        }
      ]
    },
    {
      "cell_type": "markdown",
      "metadata": {
        "id": "gi51YekQKgQE",
        "colab_type": "text"
      },
      "source": [
        "**K-Means**"
      ]
    },
    {
      "cell_type": "code",
      "metadata": {
        "id": "KwS4Ls8IcxxL",
        "colab_type": "code",
        "colab": {
          "base_uri": "https://localhost:8080/",
          "height": 135
        },
        "outputId": "0245627c-2736-448f-d488-83872cf60da7"
      },
      "source": [
        "import numpy as np\n",
        "from os import listdir\n",
        "\n",
        "def LoadCenters(training_dir):\n",
        "  lables_training = sorted(listdir(training_dir))\n",
        "  x_centers=[]\n",
        "  for label in lables_training:\n",
        "    lables_training_dir = training_dir + label + '/'\n",
        "    x_center_i=[]\n",
        "    #j=0\n",
        "    for file in os.listdir(lables_training_dir):\n",
        "      f = lables_training_dir + file \n",
        "      #print(f)\n",
        "      x_center_i.append(np.load(f))  \n",
        "      #j=j+1\n",
        "      #if j==4:\n",
        "      #  break\n",
        "    x_centers.append(np.mean(x_center_i, axis=0))\n",
        "  return np.array(x_centers), lables_training"
      ],
      "execution_count": null,
      "outputs": [
        {
          "output_type": "error",
          "ename": "IndentationError",
          "evalue": "ignored",
          "traceback": [
            "\u001b[0;36m  File \u001b[0;32m\"<ipython-input-26-f897b43be093>\"\u001b[0;36m, line \u001b[0;32m12\u001b[0m\n\u001b[0;31m    x_centers[i]= means(x_center_i)\u001b[0m\n\u001b[0m                                   ^\u001b[0m\n\u001b[0;31mIndentationError\u001b[0m\u001b[0;31m:\u001b[0m unindent does not match any outer indentation level\n"
          ]
        }
      ]
    },
    {
      "cell_type": "code",
      "metadata": {
        "id": "d5yOkXCTKIWc",
        "colab_type": "code",
        "colab": {}
      },
      "source": [
        "from sklearn.cluster import KMeans\n",
        "kmeans = KMeans(n_clusters = 11).fit(X_train)"
      ],
      "execution_count": null,
      "outputs": []
    },
    {
      "cell_type": "code",
      "metadata": {
        "id": "ypBFe7aC_1FF",
        "colab_type": "code",
        "colab": {}
      },
      "source": [
        "kmeans.cluster_centers_, kmeans.labels_ = LoadCenters(training_dir)"
      ],
      "execution_count": null,
      "outputs": []
    },
    {
      "cell_type": "code",
      "metadata": {
        "id": "EIwtGpXS_29R",
        "colab_type": "code",
        "colab": {}
      },
      "source": [
        "kmeans.labels_"
      ],
      "execution_count": null,
      "outputs": []
    },
    {
      "cell_type": "code",
      "metadata": {
        "id": "QeHc0R5K_5te",
        "colab_type": "code",
        "colab": {}
      },
      "source": [
        "kmeans.cluster_centers_"
      ],
      "execution_count": null,
      "outputs": []
    },
    {
      "cell_type": "code",
      "metadata": {
        "id": "66TRsm22_7yY",
        "colab_type": "code",
        "colab": {}
      },
      "source": [
        "Y_pred = kmeans.predict(X_test)\n",
        "print(Y_pred)"
      ],
      "execution_count": null,
      "outputs": []
    },
    {
      "cell_type": "code",
      "metadata": {
        "id": "gI-NbH8C_-1L",
        "colab_type": "code",
        "colab": {}
      },
      "source": [
        "from natsort import natsorted\n",
        "Test_Labels = []\n",
        "labels = sorted(listdir(evaluation_dir))\n",
        "for i, label in enumerate(labels):\n",
        "  datas_path = evaluation_dir + label\n",
        "  for feature_file in natsorted(listdir(datas_path)):\n",
        "    Test_Labels.append(i)"
      ],
      "execution_count": null,
      "outputs": []
    },
    {
      "cell_type": "code",
      "metadata": {
        "id": "Jf5Njt6uAAgp",
        "colab_type": "code",
        "colab": {}
      },
      "source": [
        "acc_kmeans = accuracy_score(Y_pred, Test_Labels)\n",
        "size_kmeans = kmeans.cluster_centers_.shape\n",
        "print(acc_kmeans)\n",
        "print(size_kmeans)"
      ],
      "execution_count": null,
      "outputs": []
    },
    {
      "cell_type": "code",
      "metadata": {
        "id": "ATpFgbN8Kc_V",
        "colab_type": "code",
        "colab": {}
      },
      "source": [
        "accuracy_rand = adjusted_rand_score(Y_test, Y_pred_kmean)\n",
        "accuracy_mutual = adjusted_mutual_info_score(Y_test, Y_pred_kmean)\n",
        "accuracy_homogeneity = homogeneity_score(Y_test, Y_pred_kmean)\n",
        "accuracy_completeness = completeness_score(Y_test, Y_pred_kmean)\n",
        "accuracy_fowlkes = fowlkes_mallows_score(Y_test, Y_pred_kmean)\n",
        "print('Accuracy rand ', adjusted_rand_score(Y_test, Y_pred_kmean))\n",
        "print('Accuracy mutual ', adjusted_mutual_info_score(Y_test, Y_pred_kmean))\n",
        "print('Accuracy homo', homogeneity_score(Y_test, Y_pred_kmean))\n",
        "print('Accuracy completeness', completeness_score(Y_test, Y_pred_kmean))\n",
        "print('Accuracy folkes', fowlkes_mallows_score(Y_test, Y_pred_kmean))\n",
        "print('size', size_kmean)\n",
        "print('predict ', Y_pred_kmean)\n",
        "print('test ', Y_test)"
      ],
      "execution_count": null,
      "outputs": []
    }
  ]
}